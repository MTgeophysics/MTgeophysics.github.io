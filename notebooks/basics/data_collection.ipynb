{
 "cells": [
  {
   "cell_type": "markdown",
   "metadata": {},
   "source": [
    "# MT Data Collection\n",
    "\n",
    "Data collection is one of the most important aspects of imaging the subsurface with MT.  This section will provide some basic information on how to collect data, tips, and common practices.\n",
    "\n",
    "## Survey Design\n",
    "\n",
    "Important things to consider: \n",
    "\n",
    "- **What is the target?**\n",
    "  - **Composition**: What is it made of, will it be conductive or resistive?\n",
    "  - **Geometry**: \n",
    "    - Volume\n",
    "    - Dimensions and depth\n",
    "    - Strike and dip\n",
    "  - \n",
    "- have a notebook demonstrating how to pick site locations\n",
    "\n"
   ]
  },
  {
   "cell_type": "markdown",
   "metadata": {},
   "source": []
  }
 ],
 "metadata": {
  "language_info": {
   "name": "python"
  }
 },
 "nbformat": 4,
 "nbformat_minor": 2
}
